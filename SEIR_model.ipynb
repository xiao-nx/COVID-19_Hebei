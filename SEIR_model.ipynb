{
  "nbformat": 4,
  "nbformat_minor": 0,
  "metadata": {
    "colab": {
      "name": "“virus-model.ipynb”的副本",
      "provenance": [],
      "collapsed_sections": [],
      "toc_visible": true,
      "include_colab_link": true
    },
    "kernelspec": {
      "display_name": "Python 3",
      "name": "python3"
    }
  },
  "cells": [
    {
      "cell_type": "markdown",
      "metadata": {
        "id": "view-in-github",
        "colab_type": "text"
      },
      "source": [
        "<a href=\"https://colab.research.google.com/github/xiao-nx/COVID-19_Hebei/blob/main/SEIR_model.ipynb\" target=\"_parent\"><img src=\"https://colab.research.google.com/assets/colab-badge.svg\" alt=\"Open In Colab\"/></a>"
      ]
    },
    {
      "cell_type": "markdown",
      "metadata": {
        "id": "AJX1jgLnX70s"
      },
      "source": [
        "# Epidemiology model\n",
        "\n",
        "https://nbviewer.jupyter.org/github/pyro-ppl/pyro/blob/sir-tutorial-ii/tutorial/source/epi_regional.ipynb?fbclid=IwAR3Gv8tLuiEjOmZh7-NQUa_ggm_QUqtSc5TxRZ0_pSxVA7Y3lWWzSFGKjrA \n"
      ]
    },
    {
      "cell_type": "code",
      "metadata": {
        "id": "z6UoAzRe1pMh",
        "colab": {
          "base_uri": "https://localhost:8080/"
        },
        "outputId": "1e13cfee-19e7-4b7d-ed3e-ac5dbec5b75e"
      },
      "source": [
        "!git clone https://github.com/pyro-ppl/pyro.git"
      ],
      "execution_count": null,
      "outputs": [
        {
          "output_type": "stream",
          "text": [
            "fatal: destination path 'pyro' already exists and is not an empty directory.\n"
          ],
          "name": "stdout"
        }
      ]
    },
    {
      "cell_type": "code",
      "metadata": {
        "id": "ryMxWMvbD8Nc",
        "colab": {
          "base_uri": "https://localhost:8080/"
        },
        "outputId": "123ac5d7-abb0-4b5a-d1ff-3ad3a4ea37aa"
      },
      "source": [
        "%cd /content/pyro\n"
      ],
      "execution_count": null,
      "outputs": [
        {
          "output_type": "stream",
          "text": [
            "/content/pyro\n"
          ],
          "name": "stdout"
        }
      ]
    },
    {
      "cell_type": "code",
      "metadata": {
        "id": "w8MT-jR48mLX",
        "colab": {
          "base_uri": "https://localhost:8080/",
          "height": 1000
        },
        "outputId": "c4106b16-cb73-484d-b624-e0424a7dc4b0"
      },
      "source": [
        "!pip install .[extras]"
      ],
      "execution_count": null,
      "outputs": [
        {
          "output_type": "stream",
          "text": [
            "Processing /content/pyro\n",
            "Requirement already satisfied: numpy>=1.7 in /usr/local/lib/python3.6/dist-packages (from pyro-ppl==1.5.2+eb490970) (1.19.5)\n",
            "Requirement already satisfied: opt_einsum>=2.3.2 in /usr/local/lib/python3.6/dist-packages (from pyro-ppl==1.5.2+eb490970) (3.3.0)\n",
            "Requirement already satisfied: pyro-api>=0.1.1 in /usr/local/lib/python3.6/dist-packages (from pyro-ppl==1.5.2+eb490970) (0.1.2)\n",
            "Requirement already satisfied: torch>=1.7<1.8 in /usr/local/lib/python3.6/dist-packages (from pyro-ppl==1.5.2+eb490970) (1.7.1)\n",
            "Requirement already satisfied: tqdm>=4.36 in /usr/local/lib/python3.6/dist-packages (from pyro-ppl==1.5.2+eb490970) (4.41.1)\n",
            "Requirement already satisfied: jupyter>=1.0.0 in /usr/local/lib/python3.6/dist-packages (from pyro-ppl==1.5.2+eb490970) (1.0.0)\n",
            "Requirement already satisfied: graphviz>=0.8 in /usr/local/lib/python3.6/dist-packages (from pyro-ppl==1.5.2+eb490970) (0.10.1)\n",
            "Requirement already satisfied: matplotlib>=1.3 in /usr/local/lib/python3.6/dist-packages (from pyro-ppl==1.5.2+eb490970) (3.2.2)\n",
            "Requirement already satisfied: torchvision>=0.8.1<0.9 in /usr/local/lib/python3.6/dist-packages (from pyro-ppl==1.5.2+eb490970) (0.8.2)\n",
            "Requirement already satisfied: visdom>=0.1.4 in /usr/local/lib/python3.6/dist-packages (from pyro-ppl==1.5.2+eb490970) (0.1.8.9)\n",
            "Requirement already satisfied: pandas in /usr/local/lib/python3.6/dist-packages (from pyro-ppl==1.5.2+eb490970) (1.1.5)\n",
            "Requirement already satisfied: scikit-learn in /usr/local/lib/python3.6/dist-packages (from pyro-ppl==1.5.2+eb490970) (0.22.2.post1)\n",
            "Requirement already satisfied: seaborn in /usr/local/lib/python3.6/dist-packages (from pyro-ppl==1.5.2+eb490970) (0.11.1)\n",
            "Requirement already satisfied: wget in /usr/local/lib/python3.6/dist-packages (from pyro-ppl==1.5.2+eb490970) (3.2)\n",
            "Requirement already satisfied: lap in /usr/local/lib/python3.6/dist-packages (from pyro-ppl==1.5.2+eb490970) (0.4.0)\n",
            "Requirement already satisfied: typing-extensions in /usr/local/lib/python3.6/dist-packages (from torch>=1.7<1.8->pyro-ppl==1.5.2+eb490970) (3.7.4.3)\n",
            "Requirement already satisfied: dataclasses; python_version < \"3.7\" in /usr/local/lib/python3.6/dist-packages (from torch>=1.7<1.8->pyro-ppl==1.5.2+eb490970) (0.8)\n",
            "Requirement already satisfied: ipykernel in /usr/local/lib/python3.6/dist-packages (from jupyter>=1.0.0->pyro-ppl==1.5.2+eb490970) (4.10.1)\n",
            "Requirement already satisfied: ipywidgets in /usr/local/lib/python3.6/dist-packages (from jupyter>=1.0.0->pyro-ppl==1.5.2+eb490970) (7.6.3)\n",
            "Requirement already satisfied: nbconvert in /usr/local/lib/python3.6/dist-packages (from jupyter>=1.0.0->pyro-ppl==1.5.2+eb490970) (5.6.1)\n",
            "Requirement already satisfied: jupyter-console in /usr/local/lib/python3.6/dist-packages (from jupyter>=1.0.0->pyro-ppl==1.5.2+eb490970) (5.2.0)\n",
            "Requirement already satisfied: notebook in /usr/local/lib/python3.6/dist-packages (from jupyter>=1.0.0->pyro-ppl==1.5.2+eb490970) (5.3.1)\n",
            "Requirement already satisfied: qtconsole in /usr/local/lib/python3.6/dist-packages (from jupyter>=1.0.0->pyro-ppl==1.5.2+eb490970) (5.0.2)\n",
            "Requirement already satisfied: pyparsing!=2.0.4,!=2.1.2,!=2.1.6,>=2.0.1 in /usr/local/lib/python3.6/dist-packages (from matplotlib>=1.3->pyro-ppl==1.5.2+eb490970) (2.4.7)\n",
            "Requirement already satisfied: cycler>=0.10 in /usr/local/lib/python3.6/dist-packages (from matplotlib>=1.3->pyro-ppl==1.5.2+eb490970) (0.10.0)\n",
            "Requirement already satisfied: kiwisolver>=1.0.1 in /usr/local/lib/python3.6/dist-packages (from matplotlib>=1.3->pyro-ppl==1.5.2+eb490970) (1.3.1)\n",
            "Requirement already satisfied: python-dateutil>=2.1 in /usr/local/lib/python3.6/dist-packages (from matplotlib>=1.3->pyro-ppl==1.5.2+eb490970) (2.8.1)\n",
            "Requirement already satisfied: pillow>=4.1.1 in /usr/local/lib/python3.6/dist-packages (from torchvision>=0.8.1<0.9->pyro-ppl==1.5.2+eb490970) (7.0.0)\n",
            "Requirement already satisfied: scipy in /usr/local/lib/python3.6/dist-packages (from visdom>=0.1.4->pyro-ppl==1.5.2+eb490970) (1.4.1)\n",
            "Requirement already satisfied: tornado in /usr/local/lib/python3.6/dist-packages (from visdom>=0.1.4->pyro-ppl==1.5.2+eb490970) (5.1.1)\n",
            "Requirement already satisfied: websocket-client in /usr/local/lib/python3.6/dist-packages (from visdom>=0.1.4->pyro-ppl==1.5.2+eb490970) (0.57.0)\n",
            "Requirement already satisfied: six in /usr/local/lib/python3.6/dist-packages (from visdom>=0.1.4->pyro-ppl==1.5.2+eb490970) (1.15.0)\n",
            "Requirement already satisfied: requests in /usr/local/lib/python3.6/dist-packages (from visdom>=0.1.4->pyro-ppl==1.5.2+eb490970) (2.23.0)\n",
            "Requirement already satisfied: jsonpatch in /usr/local/lib/python3.6/dist-packages (from visdom>=0.1.4->pyro-ppl==1.5.2+eb490970) (1.28)\n",
            "Requirement already satisfied: pyzmq in /usr/local/lib/python3.6/dist-packages (from visdom>=0.1.4->pyro-ppl==1.5.2+eb490970) (22.0.2)\n",
            "Requirement already satisfied: torchfile in /usr/local/lib/python3.6/dist-packages (from visdom>=0.1.4->pyro-ppl==1.5.2+eb490970) (0.1.0)\n",
            "Requirement already satisfied: pytz>=2017.2 in /usr/local/lib/python3.6/dist-packages (from pandas->pyro-ppl==1.5.2+eb490970) (2018.9)\n",
            "Requirement already satisfied: joblib>=0.11 in /usr/local/lib/python3.6/dist-packages (from scikit-learn->pyro-ppl==1.5.2+eb490970) (1.0.0)\n",
            "Requirement already satisfied: jupyter-client in /usr/local/lib/python3.6/dist-packages (from ipykernel->jupyter>=1.0.0->pyro-ppl==1.5.2+eb490970) (5.3.5)\n",
            "Requirement already satisfied: ipython>=4.0.0 in /usr/local/lib/python3.6/dist-packages (from ipykernel->jupyter>=1.0.0->pyro-ppl==1.5.2+eb490970) (5.5.0)\n",
            "Requirement already satisfied: traitlets>=4.1.0 in /usr/local/lib/python3.6/dist-packages (from ipykernel->jupyter>=1.0.0->pyro-ppl==1.5.2+eb490970) (4.3.3)\n",
            "Requirement already satisfied: jupyterlab-widgets>=1.0.0; python_version >= \"3.6\" in /usr/local/lib/python3.6/dist-packages (from ipywidgets->jupyter>=1.0.0->pyro-ppl==1.5.2+eb490970) (1.0.0)\n",
            "Requirement already satisfied: widgetsnbextension~=3.5.0 in /usr/local/lib/python3.6/dist-packages (from ipywidgets->jupyter>=1.0.0->pyro-ppl==1.5.2+eb490970) (3.5.1)\n",
            "Requirement already satisfied: nbformat>=4.2.0 in /usr/local/lib/python3.6/dist-packages (from ipywidgets->jupyter>=1.0.0->pyro-ppl==1.5.2+eb490970) (5.1.2)\n",
            "Requirement already satisfied: entrypoints>=0.2.2 in /usr/local/lib/python3.6/dist-packages (from nbconvert->jupyter>=1.0.0->pyro-ppl==1.5.2+eb490970) (0.3)\n",
            "Requirement already satisfied: testpath in /usr/local/lib/python3.6/dist-packages (from nbconvert->jupyter>=1.0.0->pyro-ppl==1.5.2+eb490970) (0.4.4)\n",
            "Requirement already satisfied: jinja2>=2.4 in /usr/local/lib/python3.6/dist-packages (from nbconvert->jupyter>=1.0.0->pyro-ppl==1.5.2+eb490970) (2.11.3)\n",
            "Requirement already satisfied: pygments in /usr/local/lib/python3.6/dist-packages (from nbconvert->jupyter>=1.0.0->pyro-ppl==1.5.2+eb490970) (2.6.1)\n",
            "Requirement already satisfied: mistune<2,>=0.8.1 in /usr/local/lib/python3.6/dist-packages (from nbconvert->jupyter>=1.0.0->pyro-ppl==1.5.2+eb490970) (0.8.4)\n",
            "Requirement already satisfied: jupyter-core in /usr/local/lib/python3.6/dist-packages (from nbconvert->jupyter>=1.0.0->pyro-ppl==1.5.2+eb490970) (4.7.1)\n",
            "Requirement already satisfied: bleach in /usr/local/lib/python3.6/dist-packages (from nbconvert->jupyter>=1.0.0->pyro-ppl==1.5.2+eb490970) (3.3.0)\n",
            "Requirement already satisfied: pandocfilters>=1.4.1 in /usr/local/lib/python3.6/dist-packages (from nbconvert->jupyter>=1.0.0->pyro-ppl==1.5.2+eb490970) (1.4.3)\n",
            "Requirement already satisfied: defusedxml in /usr/local/lib/python3.6/dist-packages (from nbconvert->jupyter>=1.0.0->pyro-ppl==1.5.2+eb490970) (0.6.0)\n",
            "Requirement already satisfied: prompt-toolkit<2.0.0,>=1.0.0 in /usr/local/lib/python3.6/dist-packages (from jupyter-console->jupyter>=1.0.0->pyro-ppl==1.5.2+eb490970) (1.0.18)\n",
            "Requirement already satisfied: terminado>=0.8.1 in /usr/local/lib/python3.6/dist-packages (from notebook->jupyter>=1.0.0->pyro-ppl==1.5.2+eb490970) (0.9.2)\n",
            "Requirement already satisfied: Send2Trash in /usr/local/lib/python3.6/dist-packages (from notebook->jupyter>=1.0.0->pyro-ppl==1.5.2+eb490970) (1.5.0)\n",
            "Requirement already satisfied: ipython-genutils in /usr/local/lib/python3.6/dist-packages (from notebook->jupyter>=1.0.0->pyro-ppl==1.5.2+eb490970) (0.2.0)\n",
            "Requirement already satisfied: qtpy in /usr/local/lib/python3.6/dist-packages (from qtconsole->jupyter>=1.0.0->pyro-ppl==1.5.2+eb490970) (1.9.0)\n",
            "Requirement already satisfied: chardet<4,>=3.0.2 in /usr/local/lib/python3.6/dist-packages (from requests->visdom>=0.1.4->pyro-ppl==1.5.2+eb490970) (3.0.4)\n",
            "Requirement already satisfied: urllib3!=1.25.0,!=1.25.1,<1.26,>=1.21.1 in /usr/local/lib/python3.6/dist-packages (from requests->visdom>=0.1.4->pyro-ppl==1.5.2+eb490970) (1.24.3)\n",
            "Requirement already satisfied: certifi>=2017.4.17 in /usr/local/lib/python3.6/dist-packages (from requests->visdom>=0.1.4->pyro-ppl==1.5.2+eb490970) (2020.12.5)\n",
            "Requirement already satisfied: idna<3,>=2.5 in /usr/local/lib/python3.6/dist-packages (from requests->visdom>=0.1.4->pyro-ppl==1.5.2+eb490970) (2.10)\n",
            "Requirement already satisfied: jsonpointer>=1.9 in /usr/local/lib/python3.6/dist-packages (from jsonpatch->visdom>=0.1.4->pyro-ppl==1.5.2+eb490970) (2.0)\n",
            "Requirement already satisfied: simplegeneric>0.8 in /usr/local/lib/python3.6/dist-packages (from ipython>=4.0.0->ipykernel->jupyter>=1.0.0->pyro-ppl==1.5.2+eb490970) (0.8.1)\n",
            "Requirement already satisfied: pickleshare in /usr/local/lib/python3.6/dist-packages (from ipython>=4.0.0->ipykernel->jupyter>=1.0.0->pyro-ppl==1.5.2+eb490970) (0.7.5)\n",
            "Requirement already satisfied: setuptools>=18.5 in /usr/local/lib/python3.6/dist-packages (from ipython>=4.0.0->ipykernel->jupyter>=1.0.0->pyro-ppl==1.5.2+eb490970) (53.0.0)\n",
            "Requirement already satisfied: pexpect; sys_platform != \"win32\" in /usr/local/lib/python3.6/dist-packages (from ipython>=4.0.0->ipykernel->jupyter>=1.0.0->pyro-ppl==1.5.2+eb490970) (4.8.0)\n",
            "Requirement already satisfied: decorator in /usr/local/lib/python3.6/dist-packages (from ipython>=4.0.0->ipykernel->jupyter>=1.0.0->pyro-ppl==1.5.2+eb490970) (4.4.2)\n",
            "Requirement already satisfied: jsonschema!=2.5.0,>=2.4 in /usr/local/lib/python3.6/dist-packages (from nbformat>=4.2.0->ipywidgets->jupyter>=1.0.0->pyro-ppl==1.5.2+eb490970) (2.6.0)\n",
            "Requirement already satisfied: MarkupSafe>=0.23 in /usr/local/lib/python3.6/dist-packages (from jinja2>=2.4->nbconvert->jupyter>=1.0.0->pyro-ppl==1.5.2+eb490970) (1.1.1)\n",
            "Requirement already satisfied: webencodings in /usr/local/lib/python3.6/dist-packages (from bleach->nbconvert->jupyter>=1.0.0->pyro-ppl==1.5.2+eb490970) (0.5.1)\n",
            "Requirement already satisfied: packaging in /usr/local/lib/python3.6/dist-packages (from bleach->nbconvert->jupyter>=1.0.0->pyro-ppl==1.5.2+eb490970) (20.9)\n",
            "Requirement already satisfied: wcwidth in /usr/local/lib/python3.6/dist-packages (from prompt-toolkit<2.0.0,>=1.0.0->jupyter-console->jupyter>=1.0.0->pyro-ppl==1.5.2+eb490970) (0.2.5)\n",
            "Requirement already satisfied: ptyprocess; os_name != \"nt\" in /usr/local/lib/python3.6/dist-packages (from terminado>=0.8.1->notebook->jupyter>=1.0.0->pyro-ppl==1.5.2+eb490970) (0.7.0)\n",
            "Building wheels for collected packages: pyro-ppl\n",
            "  Building wheel for pyro-ppl (setup.py) ... \u001b[?25l\u001b[?25hdone\n",
            "  Created wheel for pyro-ppl: filename=pyro_ppl-1.5.2+eb490970-cp36-none-any.whl size=629144 sha256=908361a20cdc7e6163cd2146610af268d7aeb1e142d495474cb7a2ee11911a76\n",
            "  Stored in directory: /tmp/pip-ephem-wheel-cache-svmrs833/wheels/7f/c8/0f/f4e71d6e55e68c8a64c8382f3f6eb829e6aa18323499202e37\n",
            "Successfully built pyro-ppl\n",
            "Installing collected packages: pyro-ppl\n",
            "  Found existing installation: pyro-ppl 1.5.2+eb490970\n",
            "    Uninstalling pyro-ppl-1.5.2+eb490970:\n",
            "      Successfully uninstalled pyro-ppl-1.5.2+eb490970\n",
            "Successfully installed pyro-ppl-1.5.2+eb490970\n"
          ],
          "name": "stdout"
        },
        {
          "output_type": "display_data",
          "data": {
            "application/vnd.colab-display-data+json": {
              "pip_warning": {
                "packages": [
                  "pyro"
                ]
              }
            }
          },
          "metadata": {
            "tags": []
          }
        }
      ]
    },
    {
      "cell_type": "code",
      "metadata": {
        "id": "7AUI1jmXcX4u"
      },
      "source": [
        "import os\n",
        "import logging\n",
        "import urllib.request\n",
        "from collections import OrderedDict\n",
        "\n",
        "import pandas as pd\n",
        "import numpy as np\n",
        "import matplotlib.pyplot as plt\n",
        "import seaborn as sns\n",
        "import torch\n",
        "import pyro\n",
        "import pyro.distributions as dist\n",
        "from pyro.contrib.epidemiology import CompartmentalModel, binomial_dist, infection_dist\n",
        "from pyro.ops.tensor_utils import convolve\n",
        "\n",
        "%matplotlib inline\n",
        "pyro.enable_validation(True)           \n",
        "torch.set_default_dtype(torch.double) \n"
      ],
      "execution_count": null,
      "outputs": []
    },
    {
      "cell_type": "markdown",
      "metadata": {
        "id": "hzpnb36feNgS"
      },
      "source": [
        "  ## Model without Policies\n",
        "  "
      ]
    },
    {
      "cell_type": "code",
      "metadata": {
        "id": "bsaJcjx6xVLo"
      },
      "source": [
        "class CovidModel(CompartmentalModel):\n",
        "  def __init__(self, population, new_cases):\n",
        "    '''\n",
        "    population (int) – Total population = S + E + I + R.\n",
        "    '''\n",
        "    compartments = (\"S\", \"E\", \"I\")  # R is implicit.\n",
        "    duration = len(new_cases)\n",
        "    super().__init__(compartments, duration, population)\n",
        "\n",
        "    self.new_cases = new_cases\n",
        "        \n",
        "\n",
        "  def global_model(self):\n",
        "    \n",
        "    beta = pyro.sample(\"infectious_rate\", dist.Beta(10, 10))\n",
        "    alpha = pyro.sample(\"incubation_time\",dist.Normal(5.0, 1))\n",
        "    gamma = pyro.sample(\"recovery_time\",dist.Normal(15.0, 1))\n",
        "    R0 = pyro.sample(\"R0\", dist.Normal(2, 0.5))\n",
        "\n",
        "\n",
        "    # tau_e = pyro.sample(\"rec_time\",dist.Normal(15.0, 1))\n",
        "    # tau_i = pyro.sample(\"incub_time\",dist.Normal(5.0, 1))\n",
        "    # R0 = pyro.sample(\"R0\", dist.Normal(2, 0.5))\n",
        "    # rho = pyro.sample(\"rho\", dist.Beta(10, 10))\n",
        "\n",
        "    return R0, beta, alpha, gamma\n",
        "\n",
        "  def initialize(self, params):\n",
        "    # Start with a single infection.\n",
        "    return {\"S\": self.population - 1, \"E\": 0, \"I\": 1}\n",
        "\n",
        "  def transition(self, params, state, t):\n",
        "    R0, beta, alpha, gamma = params\n",
        "\n",
        "    # Sample flows between compartments.\n",
        "    S2E = pyro.sample(\"S2E_{}\".format(t),\n",
        "              infection_dist(individual_rate=R0/gamma,\n",
        "              num_susceptible=state[\"S\"],\n",
        "              num_infectious=state[\"I\"],\n",
        "              population=self.population))\n",
        "    E2I = pyro.sample(\"E2I_{}\".format(t),\n",
        "              binomial_dist(state[\"E\"], 1/alpha)) \n",
        "    I2R = pyro.sample(\"I2R_{}\".format(t),\n",
        "              binomial_dist(state[\"I\"], 1/gamma))\n",
        "\n",
        "    # Update compartments with flows.\n",
        "    state[\"S\"] = state[\"S\"] - S2E \n",
        "    state[\"E\"] = state[\"E\"] + S2E - E2I\n",
        "    state[\"I\"] = state[\"I\"] + E2I - I2R\n",
        "\n",
        "    # Condition on observations.\n",
        "    t_is_observed = isinstance(t, slice) or t < self.duration\n",
        "    pyro.sample(\"new_cases_{}\".format(t),\n",
        "          binomial_dist(S2E,beta),\n",
        "          obs=self.new_cases[t] if t_is_observed else None)\n",
        "    # pyro.sample(\"new_deaths_{}\".format(t),\n",
        "    #       binomial_dist(I2R, mort_rate),\n",
        "    #       obs=self.new_deaths[t] if t_is_observed else None)\n",
        "    # pyro.sample(\"new_recovered_{}\".format(t),\n",
        "    #       binomial_dist(E2I, rec_rate),\n",
        "    #       obs=self.new_recovered[t] if t_is_observed else None)\n"
      ],
      "execution_count": null,
      "outputs": []
    },
    {
      "cell_type": "markdown",
      "metadata": {
        "id": "kgKCZvRfMi_3"
      },
      "source": [
        "## Create Country"
      ]
    },
    {
      "cell_type": "code",
      "metadata": {
        "id": "koX5yGHrsuib"
      },
      "source": [
        "# function to make the time series of confirmed and daily confirmed cases for a specific country\n",
        "def generate_data(start_date, end_date, state = False) : \n",
        "\n",
        "  df = pd.read_csv(\"/Hebei.csv\")\n",
        "  \n",
        "  # convert date string to datetime\n",
        "  df.Date = pd.to_datetime(df.Date)\n",
        "  df = df.sort_values(by = \"Date\")\n",
        "  df = df[df.Date >= start_date]\n",
        "  df = df[df.Date <= end_date]\n",
        "\n",
        "  new_cases = df['daily_confirmed_shijiazhuang'].tolist()\n",
        "\n",
        "  new_cases = torch.tensor(list(map(float, new_cases))).view(len(new_cases),1) \n",
        "\n",
        "  return_data = {\n",
        "      'new_cases':new_cases\n",
        "      }\n",
        "      \n",
        "  return return_data\n"
      ],
      "execution_count": null,
      "outputs": []
    },
    {
      "cell_type": "markdown",
      "metadata": {
        "id": "nxRxbNr8zt3O"
      },
      "source": [
        "## Get data for countries\n"
      ]
    },
    {
      "cell_type": "code",
      "metadata": {
        "id": "V4O6XUbM9Ff3"
      },
      "source": [
        "Shijiazhuang = generate_data(start_date = \"2021-01-01\", end_date = \"2021-01-31\")"
      ],
      "execution_count": null,
      "outputs": []
    },
    {
      "cell_type": "markdown",
      "metadata": {
        "id": "XTUPDWD9e_9o"
      },
      "source": [
        "##Train the model using MCMC.\n",
        "\n"
      ]
    },
    {
      "cell_type": "code",
      "metadata": {
        "id": "ddGahVqKezpd"
      },
      "source": [
        "Shijiazhuang_model = CovidModel(10520000, Shijiazhuang[\"new_cases\"])"
      ],
      "execution_count": null,
      "outputs": []
    },
    {
      "cell_type": "code",
      "metadata": {
        "id": "bX4Jq5qmC6Ke",
        "colab": {
          "base_uri": "https://localhost:8080/"
        },
        "outputId": "ff749d2d-cfe1-4d2e-b03d-80c5ce86d8b6"
      },
      "source": [
        "%%time\n",
        "pyro.set_rng_seed(20200607)\n",
        "Shijiazhuang_mcmc = Shijiazhuang_model.fit_mcmc(num_samples=200)"
      ],
      "execution_count": null,
      "outputs": [
        {
          "output_type": "stream",
          "text": [
            "INFO \t Running inference...\n",
            "Warmup:   0%|          | 0/400 [00:00, ?it/s]INFO \t Heuristic init: R0=1.49, incubation_time=5.61, infectious_rate=0.63, recovery_time=15.9\n",
            "Sample: 100%|██████████| 400/400 [01:28,  4.50it/s, step size=2.67e-03, acc. prob=0.893]"
          ],
          "name": "stderr"
        },
        {
          "output_type": "stream",
          "text": [
            "CPU times: user 1min 27s, sys: 370 ms, total: 1min 28s\n",
            "Wall time: 1min 28s\n"
          ],
          "name": "stdout"
        },
        {
          "output_type": "stream",
          "text": [
            "\n"
          ],
          "name": "stderr"
        }
      ]
    },
    {
      "cell_type": "code",
      "metadata": {
        "id": "GBjSkRSzL0qN",
        "colab": {
          "base_uri": "https://localhost:8080/"
        },
        "outputId": "bfb5f183-7640-4b2a-8ecb-218bb8ffb404"
      },
      "source": [
        "Shijiazhuang_mcmc.summary()"
      ],
      "execution_count": null,
      "outputs": [
        {
          "output_type": "stream",
          "text": [
            "\n",
            "                       mean       std    median      5.0%     95.0%     n_eff     r_hat\n",
            "  infectious_rate      0.43      0.01      0.43      0.42      0.45      2.65      2.33\n",
            "  incubation_time      4.48      0.16      4.45      4.26      4.73      2.60      2.41\n",
            "    recovery_time     15.16      0.10     15.14     15.01     15.33      2.59      2.44\n",
            "               R0      3.53      0.26      3.58      3.10      3.90      2.62      2.38\n",
            "   auxiliary[0,0] 10519941.58      3.36 10519940.56 10519937.17 10519946.82      2.61      2.62\n",
            "   auxiliary[0,1] 10519882.72      6.47 10519880.85 10519875.18 10519893.71      2.52      2.63\n",
            "   auxiliary[0,2] 10519823.41      9.41 10519821.00 10519811.71 10519838.92      2.51      2.61\n",
            "   auxiliary[0,3] 10519763.60     12.45 10519761.05 10519747.30 10519782.77      2.51      2.59\n",
            "   auxiliary[0,4] 10519703.40     15.47 10519700.74 10519682.01 10519726.91      2.52      2.54\n",
            "   auxiliary[0,5] 10519642.87     18.33 10519639.35 10519616.53 10519670.44      2.54      2.51\n",
            "   auxiliary[0,6] 10519581.88     21.49 10519578.61 10519550.70 10519614.76      2.56      2.47\n",
            "   auxiliary[0,7] 10519519.83     25.66 10519516.18 10519480.78 10519558.98      2.58      2.46\n",
            "   auxiliary[0,8] 10519456.91     28.61 10519452.21 10519414.17 10519500.01      2.58      2.47\n",
            "   auxiliary[0,9] 10519396.11     31.86 10519390.74 10519348.43 10519444.78      2.58      2.49\n",
            "  auxiliary[0,10] 10519337.61     34.15 10519333.60 10519286.35 10519389.52      2.58      2.48\n",
            "  auxiliary[0,11] 10519275.12     36.38 10519271.73 10519220.29 10519330.96      2.57      2.49\n",
            "  auxiliary[0,12] 10519210.07     38.78 10519205.16 10519150.94 10519269.30      2.56      2.53\n",
            "  auxiliary[0,13] 10519143.28     41.27 10519138.31 10519080.99 10519207.87      2.56      2.52\n",
            "  auxiliary[0,14] 10519076.97     43.73 10519072.82 10519011.94 10519144.57      2.56      2.52\n",
            "  auxiliary[0,15] 10519008.65     46.02 10519004.83 10518939.97 10519078.71      2.56      2.51\n",
            "  auxiliary[0,16] 10518940.73     48.21 10518936.75 10518868.53 10519014.35      2.55      2.53\n",
            "  auxiliary[0,17] 10518872.24     50.62 10518867.05 10518798.03 10518950.83      2.55      2.54\n",
            "  auxiliary[0,18] 10518802.05     52.65 10518795.37 10518724.96 10518883.98      2.55      2.52\n",
            "  auxiliary[0,19] 10518731.44     54.85 10518724.36 10518651.39 10518818.42      2.54      2.54\n",
            "  auxiliary[0,20] 10518660.55     56.85 10518651.31 10518579.22 10518751.53      2.54      2.56\n",
            "  auxiliary[0,21] 10518589.14     59.01 10518579.65 10518504.79 10518684.20      2.53      2.57\n",
            "  auxiliary[0,22] 10518515.73     61.05 10518506.71 10518428.55 10518611.16      2.53      2.58\n",
            "  auxiliary[0,23] 10518443.25     62.88 10518433.94 10518353.44 10518542.35      2.52      2.59\n",
            "  auxiliary[0,24] 10518370.23     64.81 10518359.29 10518277.95 10518471.04      2.52      2.59\n",
            "  auxiliary[0,25] 10518297.06     66.67 10518285.62 10518202.33 10518400.78      2.52      2.61\n",
            "  auxiliary[0,26] 10518222.77     68.73 10518210.92 10518125.31 10518327.95      2.51      2.62\n",
            "  auxiliary[0,27] 10518148.76     70.73 10518136.10 10518048.16 10518258.12      2.51      2.61\n",
            "  auxiliary[0,28] 10518071.79     73.25 10518058.56 10517968.00 10518187.49      2.51      2.62\n",
            "  auxiliary[0,29] 10517993.71     75.61 10517981.55 10517885.30 10518110.74      2.50      2.63\n",
            "  auxiliary[0,30] 10517904.57     78.36 10517892.72 10517791.10 10518026.34      2.51      2.61\n",
            "   auxiliary[1,0]     57.22      3.39     58.28     51.97     61.73      2.63      2.58\n",
            "   auxiliary[1,1]    115.26      6.56    117.20    104.33    123.11      2.52      2.60\n",
            "   auxiliary[1,2]    172.87      9.56    175.30    157.91    185.12      2.51      2.58\n",
            "   auxiliary[1,3]    229.23     12.61    231.70    209.77    246.01      2.51      2.56\n",
            "   auxiliary[1,4]    281.96     15.57    284.56    259.40    304.45      2.53      2.52\n",
            "   auxiliary[1,5]    304.29     13.42    308.02    282.06    320.39      2.57      2.41\n",
            "   auxiliary[1,6]    290.13     14.72    296.42    263.47    307.62      3.13      1.81\n",
            "   auxiliary[1,7]    118.11      7.35    115.61    107.51    129.16      2.71      2.84\n",
            "   auxiliary[1,8]     93.92      6.32     91.98     86.49    105.04      2.75      2.12\n",
            "   auxiliary[1,9]    133.21      4.88    134.83    123.76    138.54      3.04      1.99\n",
            "  auxiliary[1,10]    107.85      1.64    108.09    105.11    109.80      2.83      2.18\n",
            "  auxiliary[1,11]     99.33      0.20     99.33     98.94     99.63      4.70      1.15\n",
            "  auxiliary[1,12]     95.22      0.13     95.21     95.01     95.47     12.69      1.14\n",
            "  auxiliary[1,13]    103.22      0.25    103.15    102.89    103.69      4.37      1.19\n",
            "  auxiliary[1,14]    103.20      0.16    103.20    102.92    103.45     11.75      1.05\n",
            "  auxiliary[1,15]    111.70      0.21    111.75    111.37    111.96      5.91      1.00\n",
            "  auxiliary[1,16]    111.01      0.27    110.98    110.65    111.53      5.00      1.36\n",
            "  auxiliary[1,17]    112.16      0.19    112.14    111.82    112.46     12.26      1.06\n",
            "  auxiliary[1,18]    110.23      0.26    110.23    109.87    110.59      5.72      1.00\n",
            "  auxiliary[1,19]    116.72      0.38    116.65    116.14    117.33      3.48      1.57\n",
            "  auxiliary[1,20]    121.67      0.71    121.70    120.57    122.81      3.85      1.73\n",
            "  auxiliary[1,21]    118.82      0.25    118.76    118.50    119.26      5.17      1.18\n",
            "  auxiliary[1,22]    127.27      0.25    127.34    126.84    127.60     10.09      1.03\n",
            "  auxiliary[1,23]    122.54      0.31    122.49    122.18    123.19      3.71      1.59\n",
            "  auxiliary[1,24]    125.64      0.21    125.68    125.34    125.98      5.68      1.21\n",
            "  auxiliary[1,25]    117.30      0.30    117.29    116.88    117.81      3.62      1.68\n",
            "  auxiliary[1,26]    112.53      0.84    112.27    111.42    113.89      2.98      1.90\n",
            "  auxiliary[1,27]     99.07      0.18     99.07     98.81     99.35      9.39      1.16\n",
            "  auxiliary[1,28]    112.00      2.87    112.52    107.86    116.10      2.47      2.69\n",
            "  auxiliary[1,29]     96.73      1.03     97.14     94.84     97.85      2.80      2.17\n",
            "  auxiliary[1,30]    162.39      6.44    163.75    152.11    171.17      2.75      2.34\n",
            "   auxiliary[2,0]      0.56      0.00      0.56      0.55      0.56      5.13      1.13\n",
            "   auxiliary[2,1]      0.51      0.00      0.51      0.51      0.52      2.86      2.11\n",
            "   auxiliary[2,2]      1.38      0.00      1.38      1.37      1.38      3.42      1.79\n",
            "   auxiliary[2,3]      3.90      0.02      3.90      3.86      3.94      5.60      1.00\n",
            "   auxiliary[2,4]      9.17      0.25      9.07      8.82      9.54      2.68      2.37\n",
            "   auxiliary[2,5]     42.78      6.42     42.00     33.86     53.03      3.34      1.81\n",
            "   auxiliary[2,6]     98.22     33.73     92.17     51.02    149.59      2.55      2.51\n",
            "   auxiliary[2,7]    295.87     21.23    301.98    260.85    322.95      2.67      2.42\n",
            "   auxiliary[2,8]    238.95     18.36    244.27    207.11    265.12      3.02      1.91\n",
            "   auxiliary[2,9]     74.08      0.22     74.02     73.79     74.48      2.93      2.28\n",
            "  auxiliary[2,10]    110.62      5.14    110.84    102.48    117.64      2.63      2.34\n",
            "  auxiliary[2,11]    128.61      3.54    128.73    123.94    133.89      2.39      3.26\n",
            "  auxiliary[2,12]    149.57      2.72    149.12    146.40    153.77      2.42      3.00\n",
            "  auxiliary[2,13]    155.85      2.44    155.77    152.06    159.60      2.80      2.17\n",
            "  auxiliary[2,14]    162.33      2.53    162.27    158.66    166.45      2.83      2.25\n",
            "  auxiliary[2,15]    166.93      1.60    166.92    163.90    169.19      3.13      1.92\n",
            "  auxiliary[2,16]    176.14      0.61    176.04    175.30    177.05      8.91      1.07\n",
            "  auxiliary[2,17]    180.49      1.05    180.13    179.01    182.26      2.97      2.06\n",
            "  auxiliary[2,18]    200.46      1.12    200.46    198.94    202.12      3.14      2.68\n",
            "  auxiliary[2,19]    201.26      1.08    201.16    199.92    203.32      5.90      1.42\n",
            "  auxiliary[2,20]    202.31      0.61    202.21    201.41    203.32      4.56      1.28\n",
            "  auxiliary[2,21]    215.76      1.34    215.37    214.21    217.85      4.40      1.54\n",
            "  auxiliary[2,22]    221.72      1.48    222.01    219.16    223.54      3.30      2.01\n",
            "  auxiliary[2,23]    233.78      1.07    233.80    232.20    235.53      7.15      1.14\n",
            "  auxiliary[2,24]    232.84      1.23    232.62    231.03    234.07      8.09      1.01\n",
            "  auxiliary[2,25]    249.11      3.32    248.03    245.11    253.85      2.47      2.96\n",
            "  auxiliary[2,26]    265.55      4.61    265.13    258.95    273.21      2.67      2.34\n",
            "  auxiliary[2,27]    291.03      6.75    293.06    279.93    300.60      2.88      2.10\n",
            "  auxiliary[2,28]    295.23      6.38    295.63    285.13    304.99      2.94      2.12\n",
            "  auxiliary[2,29]    354.04     12.83    355.73    334.46    369.47      2.38      3.12\n",
            "  auxiliary[2,30]    341.68      6.89    343.33    330.87    351.50      3.18      1.83\n",
            "\n",
            "Number of divergences: 0\n"
          ],
          "name": "stdout"
        }
      ]
    }
  ]
}