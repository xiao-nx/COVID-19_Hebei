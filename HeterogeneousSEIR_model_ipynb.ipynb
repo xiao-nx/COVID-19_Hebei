{
  "nbformat": 4,
  "nbformat_minor": 0,
  "metadata": {
    "colab": {
      "name": "“virus-model.ipynb”的副本",
      "provenance": [],
      "collapsed_sections": [],
      "toc_visible": true,
      "include_colab_link": true
    },
    "kernelspec": {
      "display_name": "Python 3",
      "name": "python3"
    }
  },
  "cells": [
    {
      "cell_type": "markdown",
      "metadata": {
        "id": "view-in-github",
        "colab_type": "text"
      },
      "source": [
        "<a href=\"https://colab.research.google.com/github/xiao-nx/COVID-19_Hebei/blob/main/HeterogeneousSEIR_model_ipynb.ipynb\" target=\"_parent\"><img src=\"https://colab.research.google.com/assets/colab-badge.svg\" alt=\"Open In Colab\"/></a>"
      ]
    },
    {
      "cell_type": "markdown",
      "metadata": {
        "id": "AJX1jgLnX70s"
      },
      "source": [
        "# Epidemiology model\n",
        "\n",
        "https://nbviewer.jupyter.org/github/pyro-ppl/pyro/blob/sir-tutorial-ii/tutorial/source/epi_regional.ipynb?fbclid=IwAR3Gv8tLuiEjOmZh7-NQUa_ggm_QUqtSc5TxRZ0_pSxVA7Y3lWWzSFGKjrA \n"
      ]
    },
    {
      "cell_type": "code",
      "metadata": {
        "id": "z6UoAzRe1pMh",
        "colab": {
          "base_uri": "https://localhost:8080/"
        },
        "outputId": "9352b6a7-22e8-4fb9-9ef0-614720e3fc2d"
      },
      "source": [
        "!git clone https://github.com/pyro-ppl/pyro.git"
      ],
      "execution_count": null,
      "outputs": [
        {
          "output_type": "stream",
          "text": [
            "fatal: destination path 'pyro' already exists and is not an empty directory.\n"
          ],
          "name": "stdout"
        }
      ]
    },
    {
      "cell_type": "code",
      "metadata": {
        "id": "ryMxWMvbD8Nc",
        "colab": {
          "base_uri": "https://localhost:8080/"
        },
        "outputId": "155c60c9-dbf7-45ce-aec3-2afde2456ff9"
      },
      "source": [
        "%cd /content/pyro\n"
      ],
      "execution_count": null,
      "outputs": [
        {
          "output_type": "stream",
          "text": [
            "/content/pyro\n"
          ],
          "name": "stdout"
        }
      ]
    },
    {
      "cell_type": "code",
      "metadata": {
        "id": "w8MT-jR48mLX",
        "colab": {
          "base_uri": "https://localhost:8080/"
        },
        "outputId": "e6e67963-bbb7-4aaf-dc1e-89c2c647cbc5"
      },
      "source": [
        "!pip install .[extras]"
      ],
      "execution_count": null,
      "outputs": [
        {
          "output_type": "stream",
          "text": [
            "Processing /content/pyro\n",
            "Requirement already satisfied: numpy>=1.7 in /usr/local/lib/python3.6/dist-packages (from pyro-ppl==1.5.2+febf152c) (1.19.5)\n",
            "Requirement already satisfied: opt_einsum>=2.3.2 in /usr/local/lib/python3.6/dist-packages (from pyro-ppl==1.5.2+febf152c) (3.3.0)\n",
            "Requirement already satisfied: pyro-api>=0.1.1 in /usr/local/lib/python3.6/dist-packages (from pyro-ppl==1.5.2+febf152c) (0.1.2)\n",
            "Requirement already satisfied: torch>=1.7<1.8 in /usr/local/lib/python3.6/dist-packages (from pyro-ppl==1.5.2+febf152c) (1.7.1)\n",
            "Requirement already satisfied: tqdm>=4.36 in /usr/local/lib/python3.6/dist-packages (from pyro-ppl==1.5.2+febf152c) (4.41.1)\n",
            "Requirement already satisfied: jupyter>=1.0.0 in /usr/local/lib/python3.6/dist-packages (from pyro-ppl==1.5.2+febf152c) (1.0.0)\n",
            "Requirement already satisfied: graphviz>=0.8 in /usr/local/lib/python3.6/dist-packages (from pyro-ppl==1.5.2+febf152c) (0.10.1)\n",
            "Requirement already satisfied: matplotlib>=1.3 in /usr/local/lib/python3.6/dist-packages (from pyro-ppl==1.5.2+febf152c) (3.2.2)\n",
            "Requirement already satisfied: torchvision>=0.8.1<0.9 in /usr/local/lib/python3.6/dist-packages (from pyro-ppl==1.5.2+febf152c) (0.8.2)\n",
            "Requirement already satisfied: visdom>=0.1.4 in /usr/local/lib/python3.6/dist-packages (from pyro-ppl==1.5.2+febf152c) (0.1.8.9)\n",
            "Requirement already satisfied: pandas in /usr/local/lib/python3.6/dist-packages (from pyro-ppl==1.5.2+febf152c) (1.1.5)\n",
            "Requirement already satisfied: scikit-learn in /usr/local/lib/python3.6/dist-packages (from pyro-ppl==1.5.2+febf152c) (0.22.2.post1)\n",
            "Requirement already satisfied: seaborn in /usr/local/lib/python3.6/dist-packages (from pyro-ppl==1.5.2+febf152c) (0.11.1)\n",
            "Requirement already satisfied: wget in /usr/local/lib/python3.6/dist-packages (from pyro-ppl==1.5.2+febf152c) (3.2)\n",
            "Requirement already satisfied: lap in /usr/local/lib/python3.6/dist-packages (from pyro-ppl==1.5.2+febf152c) (0.4.0)\n",
            "Requirement already satisfied: dataclasses; python_version < \"3.7\" in /usr/local/lib/python3.6/dist-packages (from torch>=1.7<1.8->pyro-ppl==1.5.2+febf152c) (0.8)\n",
            "Requirement already satisfied: typing-extensions in /usr/local/lib/python3.6/dist-packages (from torch>=1.7<1.8->pyro-ppl==1.5.2+febf152c) (3.7.4.3)\n",
            "Requirement already satisfied: notebook in /usr/local/lib/python3.6/dist-packages (from jupyter>=1.0.0->pyro-ppl==1.5.2+febf152c) (5.3.1)\n",
            "Requirement already satisfied: nbconvert in /usr/local/lib/python3.6/dist-packages (from jupyter>=1.0.0->pyro-ppl==1.5.2+febf152c) (5.6.1)\n",
            "Requirement already satisfied: ipywidgets in /usr/local/lib/python3.6/dist-packages (from jupyter>=1.0.0->pyro-ppl==1.5.2+febf152c) (7.6.3)\n",
            "Requirement already satisfied: qtconsole in /usr/local/lib/python3.6/dist-packages (from jupyter>=1.0.0->pyro-ppl==1.5.2+febf152c) (5.0.2)\n",
            "Requirement already satisfied: ipykernel in /usr/local/lib/python3.6/dist-packages (from jupyter>=1.0.0->pyro-ppl==1.5.2+febf152c) (4.10.1)\n",
            "Requirement already satisfied: jupyter-console in /usr/local/lib/python3.6/dist-packages (from jupyter>=1.0.0->pyro-ppl==1.5.2+febf152c) (5.2.0)\n",
            "Requirement already satisfied: cycler>=0.10 in /usr/local/lib/python3.6/dist-packages (from matplotlib>=1.3->pyro-ppl==1.5.2+febf152c) (0.10.0)\n",
            "Requirement already satisfied: python-dateutil>=2.1 in /usr/local/lib/python3.6/dist-packages (from matplotlib>=1.3->pyro-ppl==1.5.2+febf152c) (2.8.1)\n",
            "Requirement already satisfied: pyparsing!=2.0.4,!=2.1.2,!=2.1.6,>=2.0.1 in /usr/local/lib/python3.6/dist-packages (from matplotlib>=1.3->pyro-ppl==1.5.2+febf152c) (2.4.7)\n",
            "Requirement already satisfied: kiwisolver>=1.0.1 in /usr/local/lib/python3.6/dist-packages (from matplotlib>=1.3->pyro-ppl==1.5.2+febf152c) (1.3.1)\n",
            "Requirement already satisfied: pillow>=4.1.1 in /usr/local/lib/python3.6/dist-packages (from torchvision>=0.8.1<0.9->pyro-ppl==1.5.2+febf152c) (7.0.0)\n",
            "Requirement already satisfied: six in /usr/local/lib/python3.6/dist-packages (from visdom>=0.1.4->pyro-ppl==1.5.2+febf152c) (1.15.0)\n",
            "Requirement already satisfied: pyzmq in /usr/local/lib/python3.6/dist-packages (from visdom>=0.1.4->pyro-ppl==1.5.2+febf152c) (22.0.2)\n",
            "Requirement already satisfied: jsonpatch in /usr/local/lib/python3.6/dist-packages (from visdom>=0.1.4->pyro-ppl==1.5.2+febf152c) (1.28)\n",
            "Requirement already satisfied: websocket-client in /usr/local/lib/python3.6/dist-packages (from visdom>=0.1.4->pyro-ppl==1.5.2+febf152c) (0.57.0)\n",
            "Requirement already satisfied: tornado in /usr/local/lib/python3.6/dist-packages (from visdom>=0.1.4->pyro-ppl==1.5.2+febf152c) (5.1.1)\n",
            "Requirement already satisfied: requests in /usr/local/lib/python3.6/dist-packages (from visdom>=0.1.4->pyro-ppl==1.5.2+febf152c) (2.23.0)\n",
            "Requirement already satisfied: torchfile in /usr/local/lib/python3.6/dist-packages (from visdom>=0.1.4->pyro-ppl==1.5.2+febf152c) (0.1.0)\n",
            "Requirement already satisfied: scipy in /usr/local/lib/python3.6/dist-packages (from visdom>=0.1.4->pyro-ppl==1.5.2+febf152c) (1.4.1)\n",
            "Requirement already satisfied: pytz>=2017.2 in /usr/local/lib/python3.6/dist-packages (from pandas->pyro-ppl==1.5.2+febf152c) (2018.9)\n",
            "Requirement already satisfied: joblib>=0.11 in /usr/local/lib/python3.6/dist-packages (from scikit-learn->pyro-ppl==1.5.2+febf152c) (1.0.0)\n",
            "Requirement already satisfied: jupyter-core>=4.4.0 in /usr/local/lib/python3.6/dist-packages (from notebook->jupyter>=1.0.0->pyro-ppl==1.5.2+febf152c) (4.7.1)\n",
            "Requirement already satisfied: nbformat in /usr/local/lib/python3.6/dist-packages (from notebook->jupyter>=1.0.0->pyro-ppl==1.5.2+febf152c) (5.1.2)\n",
            "Requirement already satisfied: Send2Trash in /usr/local/lib/python3.6/dist-packages (from notebook->jupyter>=1.0.0->pyro-ppl==1.5.2+febf152c) (1.5.0)\n",
            "Requirement already satisfied: jupyter-client>=5.2.0 in /usr/local/lib/python3.6/dist-packages (from notebook->jupyter>=1.0.0->pyro-ppl==1.5.2+febf152c) (5.3.5)\n",
            "Requirement already satisfied: terminado>=0.8.1 in /usr/local/lib/python3.6/dist-packages (from notebook->jupyter>=1.0.0->pyro-ppl==1.5.2+febf152c) (0.9.2)\n",
            "Requirement already satisfied: traitlets>=4.2.1 in /usr/local/lib/python3.6/dist-packages (from notebook->jupyter>=1.0.0->pyro-ppl==1.5.2+febf152c) (4.3.3)\n",
            "Requirement already satisfied: ipython-genutils in /usr/local/lib/python3.6/dist-packages (from notebook->jupyter>=1.0.0->pyro-ppl==1.5.2+febf152c) (0.2.0)\n",
            "Requirement already satisfied: jinja2 in /usr/local/lib/python3.6/dist-packages (from notebook->jupyter>=1.0.0->pyro-ppl==1.5.2+febf152c) (2.11.3)\n",
            "Requirement already satisfied: pandocfilters>=1.4.1 in /usr/local/lib/python3.6/dist-packages (from nbconvert->jupyter>=1.0.0->pyro-ppl==1.5.2+febf152c) (1.4.3)\n",
            "Requirement already satisfied: defusedxml in /usr/local/lib/python3.6/dist-packages (from nbconvert->jupyter>=1.0.0->pyro-ppl==1.5.2+febf152c) (0.6.0)\n",
            "Requirement already satisfied: mistune<2,>=0.8.1 in /usr/local/lib/python3.6/dist-packages (from nbconvert->jupyter>=1.0.0->pyro-ppl==1.5.2+febf152c) (0.8.4)\n",
            "Requirement already satisfied: bleach in /usr/local/lib/python3.6/dist-packages (from nbconvert->jupyter>=1.0.0->pyro-ppl==1.5.2+febf152c) (3.3.0)\n",
            "Requirement already satisfied: testpath in /usr/local/lib/python3.6/dist-packages (from nbconvert->jupyter>=1.0.0->pyro-ppl==1.5.2+febf152c) (0.4.4)\n",
            "Requirement already satisfied: entrypoints>=0.2.2 in /usr/local/lib/python3.6/dist-packages (from nbconvert->jupyter>=1.0.0->pyro-ppl==1.5.2+febf152c) (0.3)\n",
            "Requirement already satisfied: pygments in /usr/local/lib/python3.6/dist-packages (from nbconvert->jupyter>=1.0.0->pyro-ppl==1.5.2+febf152c) (2.6.1)\n",
            "Requirement already satisfied: widgetsnbextension~=3.5.0 in /usr/local/lib/python3.6/dist-packages (from ipywidgets->jupyter>=1.0.0->pyro-ppl==1.5.2+febf152c) (3.5.1)\n",
            "Requirement already satisfied: jupyterlab-widgets>=1.0.0; python_version >= \"3.6\" in /usr/local/lib/python3.6/dist-packages (from ipywidgets->jupyter>=1.0.0->pyro-ppl==1.5.2+febf152c) (1.0.0)\n",
            "Requirement already satisfied: ipython>=4.0.0; python_version >= \"3.3\" in /usr/local/lib/python3.6/dist-packages (from ipywidgets->jupyter>=1.0.0->pyro-ppl==1.5.2+febf152c) (5.5.0)\n",
            "Requirement already satisfied: qtpy in /usr/local/lib/python3.6/dist-packages (from qtconsole->jupyter>=1.0.0->pyro-ppl==1.5.2+febf152c) (1.9.0)\n",
            "Requirement already satisfied: prompt-toolkit<2.0.0,>=1.0.0 in /usr/local/lib/python3.6/dist-packages (from jupyter-console->jupyter>=1.0.0->pyro-ppl==1.5.2+febf152c) (1.0.18)\n",
            "Requirement already satisfied: jsonpointer>=1.9 in /usr/local/lib/python3.6/dist-packages (from jsonpatch->visdom>=0.1.4->pyro-ppl==1.5.2+febf152c) (2.0)\n",
            "Requirement already satisfied: urllib3!=1.25.0,!=1.25.1,<1.26,>=1.21.1 in /usr/local/lib/python3.6/dist-packages (from requests->visdom>=0.1.4->pyro-ppl==1.5.2+febf152c) (1.24.3)\n",
            "Requirement already satisfied: idna<3,>=2.5 in /usr/local/lib/python3.6/dist-packages (from requests->visdom>=0.1.4->pyro-ppl==1.5.2+febf152c) (2.10)\n",
            "Requirement already satisfied: chardet<4,>=3.0.2 in /usr/local/lib/python3.6/dist-packages (from requests->visdom>=0.1.4->pyro-ppl==1.5.2+febf152c) (3.0.4)\n",
            "Requirement already satisfied: certifi>=2017.4.17 in /usr/local/lib/python3.6/dist-packages (from requests->visdom>=0.1.4->pyro-ppl==1.5.2+febf152c) (2020.12.5)\n",
            "Requirement already satisfied: jsonschema!=2.5.0,>=2.4 in /usr/local/lib/python3.6/dist-packages (from nbformat->notebook->jupyter>=1.0.0->pyro-ppl==1.5.2+febf152c) (2.6.0)\n",
            "Requirement already satisfied: ptyprocess; os_name != \"nt\" in /usr/local/lib/python3.6/dist-packages (from terminado>=0.8.1->notebook->jupyter>=1.0.0->pyro-ppl==1.5.2+febf152c) (0.7.0)\n",
            "Requirement already satisfied: decorator in /usr/local/lib/python3.6/dist-packages (from traitlets>=4.2.1->notebook->jupyter>=1.0.0->pyro-ppl==1.5.2+febf152c) (4.4.2)\n",
            "Requirement already satisfied: MarkupSafe>=0.23 in /usr/local/lib/python3.6/dist-packages (from jinja2->notebook->jupyter>=1.0.0->pyro-ppl==1.5.2+febf152c) (1.1.1)\n",
            "Requirement already satisfied: packaging in /usr/local/lib/python3.6/dist-packages (from bleach->nbconvert->jupyter>=1.0.0->pyro-ppl==1.5.2+febf152c) (20.9)\n",
            "Requirement already satisfied: webencodings in /usr/local/lib/python3.6/dist-packages (from bleach->nbconvert->jupyter>=1.0.0->pyro-ppl==1.5.2+febf152c) (0.5.1)\n",
            "Requirement already satisfied: pexpect; sys_platform != \"win32\" in /usr/local/lib/python3.6/dist-packages (from ipython>=4.0.0; python_version >= \"3.3\"->ipywidgets->jupyter>=1.0.0->pyro-ppl==1.5.2+febf152c) (4.8.0)\n",
            "Requirement already satisfied: pickleshare in /usr/local/lib/python3.6/dist-packages (from ipython>=4.0.0; python_version >= \"3.3\"->ipywidgets->jupyter>=1.0.0->pyro-ppl==1.5.2+febf152c) (0.7.5)\n",
            "Requirement already satisfied: setuptools>=18.5 in /usr/local/lib/python3.6/dist-packages (from ipython>=4.0.0; python_version >= \"3.3\"->ipywidgets->jupyter>=1.0.0->pyro-ppl==1.5.2+febf152c) (53.0.0)\n",
            "Requirement already satisfied: simplegeneric>0.8 in /usr/local/lib/python3.6/dist-packages (from ipython>=4.0.0; python_version >= \"3.3\"->ipywidgets->jupyter>=1.0.0->pyro-ppl==1.5.2+febf152c) (0.8.1)\n",
            "Requirement already satisfied: wcwidth in /usr/local/lib/python3.6/dist-packages (from prompt-toolkit<2.0.0,>=1.0.0->jupyter-console->jupyter>=1.0.0->pyro-ppl==1.5.2+febf152c) (0.2.5)\n",
            "Building wheels for collected packages: pyro-ppl\n",
            "  Building wheel for pyro-ppl (setup.py) ... \u001b[?25l\u001b[?25hdone\n",
            "  Created wheel for pyro-ppl: filename=pyro_ppl-1.5.2+febf152c-cp36-none-any.whl size=629141 sha256=c2a8f90c92f7926f9a19816511720506ded8725b72e1031e4306d6e1b90ca645\n",
            "  Stored in directory: /tmp/pip-ephem-wheel-cache-40_0vx9p/wheels/7f/c8/0f/f4e71d6e55e68c8a64c8382f3f6eb829e6aa18323499202e37\n",
            "Successfully built pyro-ppl\n",
            "Installing collected packages: pyro-ppl\n",
            "  Found existing installation: pyro-ppl 1.5.2+febf152c\n",
            "    Uninstalling pyro-ppl-1.5.2+febf152c:\n",
            "      Successfully uninstalled pyro-ppl-1.5.2+febf152c\n",
            "Successfully installed pyro-ppl-1.5.2+febf152c\n"
          ],
          "name": "stdout"
        }
      ]
    },
    {
      "cell_type": "code",
      "metadata": {
        "id": "7AUI1jmXcX4u"
      },
      "source": [
        "import os\n",
        "import logging\n",
        "import urllib.request\n",
        "from collections import OrderedDict\n",
        "\n",
        "import pandas as pd\n",
        "import numpy as np\n",
        "import matplotlib.pyplot as plt\n",
        "import seaborn as sns\n",
        "import torch\n",
        "import pyro\n",
        "import pyro.distributions as dist\n",
        "from pyro.contrib.epidemiology import CompartmentalModel, binomial_dist, infection_dist\n",
        "from pyro.ops.tensor_utils import convolve\n",
        "\n",
        "%matplotlib inline\n",
        "pyro.enable_validation(True)           \n",
        "torch.set_default_dtype(torch.double) \n"
      ],
      "execution_count": null,
      "outputs": []
    },
    {
      "cell_type": "markdown",
      "metadata": {
        "id": "hzpnb36feNgS"
      },
      "source": [
        "  ## Model without Policies\n",
        "  "
      ]
    },
    {
      "cell_type": "code",
      "metadata": {
        "id": "bsaJcjx6xVLo"
      },
      "source": [
        "class HeterogeneousCovidModel(CompartmentalModel):\n",
        "  def __init__(self, population, new_cases):\n",
        "    '''\n",
        "    population (int) – Total population = S + E + I + R.\n",
        "    '''\n",
        "    compartments = (\"S\", \"E\", \"I\")  # R is implicit.\n",
        "    duration = len(new_cases)\n",
        "    super().__init__(compartments, duration, population)\n",
        "\n",
        "    self.new_cases = new_cases\n",
        "        \n",
        "\n",
        "  def global_model(self):\n",
        "    \n",
        "    beta = pyro.sample(\"infectious_rate\", dist.Beta(10, 10))\n",
        "    alpha = pyro.sample(\"incubation_time\",dist.Normal(5.0, 1))\n",
        "    gamma = pyro.sample(\"recovery_time\",dist.Normal(15.0, 1))\n",
        "    R0 = pyro.sample(\"R0\", dist.Normal(2, 0.5))\n",
        "\n",
        "\n",
        "    # tau_e = pyro.sample(\"rec_time\",dist.Normal(15.0, 1))\n",
        "    # tau_i = pyro.sample(\"incub_time\",dist.Normal(5.0, 1))\n",
        "    # R0 = pyro.sample(\"R0\", dist.Normal(2, 0.5))\n",
        "    # rho = pyro.sample(\"rho\", dist.Beta(10, 10))\n",
        "\n",
        "    return R0, beta, alpha, gamma\n",
        "\n",
        "  def initialize(self, params):\n",
        "    # Start with a single infection.\n",
        "    return {\"S\": self.population - 1, \"E\": 0, \"I\": 1, \"drifting_factor\":torch.tensor(1.)}\n",
        "\n",
        "  def transition(self, params, state, t):\n",
        "    R0, beta, alpha, gamma = params\n",
        "\n",
        "    # Sample heterogeneous variables.\n",
        "    # This assumes drifting_factor slowly drifts via Brownian motion in log space.\n",
        "    drifting_factor = pyro.sample(\"drifting_factor_{}\".format(t),\n",
        "                    dist.LogNormal(state[\"drifting_factor\"].log(),0.1))\n",
        "    Rt = pyro.deterministic(\"Rt_{}\".format(t),R0 * drifting_factor)\n",
        "\n",
        "\n",
        "    # Sample flows between compartments.\n",
        "    S2E = pyro.sample(\"S2E_{}\".format(t),\n",
        "              infection_dist(individual_rate=Rt/gamma,\n",
        "              num_susceptible=state[\"S\"],\n",
        "              num_infectious=state[\"I\"],\n",
        "              population=self.population))\n",
        "    E2I = pyro.sample(\"E2I_{}\".format(t),\n",
        "              binomial_dist(state[\"E\"], 1/alpha)) \n",
        "    I2R = pyro.sample(\"I2R_{}\".format(t),\n",
        "              binomial_dist(state[\"I\"], 1/gamma))\n",
        "\n",
        "    # Update compartments with flows.\n",
        "    state[\"S\"] = state[\"S\"] - S2E \n",
        "    state[\"E\"] = state[\"E\"] + S2E - E2I\n",
        "    state[\"I\"] = state[\"I\"] + E2I - I2R\n",
        "    state[\"drifting_factor\"] = drifting_factor # We store the latest drifting_factor value in the state dict\n",
        "\n",
        "\n",
        "    # Condition on observations.\n",
        "    t_is_observed = isinstance(t, slice) or t < self.duration\n",
        "    pyro.sample(\"new_cases_{}\".format(t),\n",
        "          binomial_dist(S2E,beta),\n",
        "          obs=self.new_cases[t] if t_is_observed else None)\n",
        "    # pyro.sample(\"new_deaths_{}\".format(t),\n",
        "    #       binomial_dist(I2R, mort_rate),\n",
        "    #       obs=self.new_deaths[t] if t_is_observed else None)\n",
        "    # pyro.sample(\"new_recovered_{}\".format(t),\n",
        "    #       binomial_dist(E2I, rec_rate),\n",
        "    #       obs=self.new_recovered[t] if t_is_observed else None)\n"
      ],
      "execution_count": null,
      "outputs": []
    },
    {
      "cell_type": "markdown",
      "metadata": {
        "id": "kgKCZvRfMi_3"
      },
      "source": [
        "## Create Country"
      ]
    },
    {
      "cell_type": "code",
      "metadata": {
        "id": "koX5yGHrsuib"
      },
      "source": [
        "# function to make the time series of confirmed and daily confirmed cases for a specific country\n",
        "def generate_data(start_date, end_date, state = False) : \n",
        "\n",
        "  df = pd.read_csv(\"/Hebei.csv\")\n",
        "  \n",
        "  # convert date string to datetime\n",
        "  df.Date = pd.to_datetime(df.Date)\n",
        "  df = df.sort_values(by = \"Date\")\n",
        "  df = df[df.Date >= start_date]\n",
        "  df = df[df.Date <= end_date]\n",
        "\n",
        "  new_cases = df['daily_confirmed_shijiazhuang'].tolist()\n",
        "\n",
        "  new_cases = torch.tensor(list(map(float, new_cases))).view(len(new_cases),1) \n",
        "\n",
        "  return_data = {\n",
        "      'new_cases':new_cases\n",
        "      }\n",
        "      \n",
        "  return return_data\n"
      ],
      "execution_count": null,
      "outputs": []
    },
    {
      "cell_type": "markdown",
      "metadata": {
        "id": "nxRxbNr8zt3O"
      },
      "source": [
        "## Get data for countries\n"
      ]
    },
    {
      "cell_type": "code",
      "metadata": {
        "id": "V4O6XUbM9Ff3",
        "colab": {
          "base_uri": "https://localhost:8080/",
          "height": 297
        },
        "outputId": "2d525641-57e3-4965-ead3-afbf7545360e"
      },
      "source": [
        "Shijiazhuang = generate_data(start_date = \"2021-01-01\", end_date = \"2021-01-31\")\n",
        "\n",
        "plt.figure(figsize=(8,4))\n",
        "new_cases = Shijiazhuang[\"new_cases\"]\n",
        "plt.plot(new_cases,\"k.\", label=\"new_cases\")\n",
        "plt.xlim(0, len(new_cases) - 1)\n",
        "plt.ylim(0.8, None)\n",
        "plt.xlabel(\"time step\")\n",
        "plt.ylabel(\"individuals\")\n",
        "plt.legend(loc=\"best\")\n",
        "plt.title(\"time series\")\n",
        "plt.tight_layout()"
      ],
      "execution_count": null,
      "outputs": [
        {
          "output_type": "display_data",
          "data": {
            "image/png": "[encoded data removed]",
            "text/plain": [
              "<Figure size 576x288 with 1 Axes>"
            ]
          },
          "metadata": {
            "tags": [],
            "needs_background": "light"
          }
        }
      ]
    },
    {
      "cell_type": "markdown",
      "metadata": {
        "id": "XTUPDWD9e_9o"
      },
      "source": [
        "##Train the model using MCMC.\n",
        "\n"
      ]
    },
    {
      "cell_type": "code",
      "metadata": {
        "id": "ddGahVqKezpd"
      },
      "source": [
        "Shijiazhuang_model = HeterogeneousCovidModel(10520000, Shijiazhuang[\"new_cases\"])"
      ],
      "execution_count": null,
      "outputs": []
    },
    {
      "cell_type": "code",
      "metadata": {
        "id": "bX4Jq5qmC6Ke",
        "colab": {
          "base_uri": "https://localhost:8080/"
        },
        "outputId": "cb7b6692-fafe-4985-bba0-16b8c8ffbba6"
      },
      "source": [
        "%%time\n",
        "pyro.set_rng_seed(20200607)\n",
        "Shijiazhuang_mcmc = Shijiazhuang_model.fit_mcmc(num_samples=200)"
      ],
      "execution_count": null,
      "outputs": [
        {
          "output_type": "stream",
          "text": [
            "INFO \t Running inference...\n",
            "Warmup:   0%|          | 0/400 [00:00, ?it/s]INFO \t Heuristic init: R0=1.53, incubation_time=4.67, infectious_rate=0.498, recovery_time=14.7\n",
            "Sample: 100%|██████████| 400/400 [01:54,  3.50it/s, step size=3.39e-03, acc. prob=0.871]"
          ],
          "name": "stderr"
        },
        {
          "output_type": "stream",
          "text": [
            "CPU times: user 1min 53s, sys: 458 ms, total: 1min 53s\n",
            "Wall time: 1min 54s\n"
          ],
          "name": "stdout"
        },
        {
          "output_type": "stream",
          "text": [
            "\n"
          ],
          "name": "stderr"
        }
      ]
    },
    {
      "cell_type": "code",
      "metadata": {
        "id": "GBjSkRSzL0qN",
        "colab": {
          "base_uri": "https://localhost:8080/"
        },
        "outputId": "0dcdaa9b-ea97-4378-9a83-a09db5fbfdcf"
      },
      "source": [
        "Shijiazhuang_mcmc.summary()"
      ],
      "execution_count": null,
      "outputs": [
        {
          "output_type": "stream",
          "text": [
            "\n",
            "                         mean       std    median      5.0%     95.0%     n_eff     r_hat\n",
            "    infectious_rate      0.38      0.01      0.38      0.37      0.40      2.68      2.33\n",
            "    incubation_time      1.63      0.03      1.63      1.58      1.67      3.99      1.70\n",
            "      recovery_time     12.73      0.01     12.73     12.71     12.75     58.46      1.00\n",
            "                 R0      4.78      0.03      4.77      4.73      4.83      4.23      1.63\n",
            "     auxiliary[0,0] 10519926.76      2.40 10519926.96 10519923.10 10519930.40      3.02      2.02\n",
            "     auxiliary[0,1] 10519857.28      5.29 10519857.51 10519850.27 10519865.42      2.58      2.54\n",
            "     auxiliary[0,2] 10519778.44      6.70 10519778.49 10519768.55 10519788.51      2.72      2.36\n",
            "     auxiliary[0,3] 10519705.13      8.38 10519705.04 10519693.43 10519718.78      2.80      2.26\n",
            "     auxiliary[0,4] 10519630.33      9.88 10519629.65 10519617.44 10519647.37      2.76      2.31\n",
            "     auxiliary[0,5] 10519554.09     11.29 10519553.00 10519538.90 10519574.19      2.79      2.27\n",
            "     auxiliary[0,6] 10519479.46     12.71 10519477.75 10519463.98 10519503.79      2.81      2.26\n",
            "     auxiliary[0,7] 10519390.05     15.34 10519387.54 10519368.22 10519415.59      2.80      2.26\n",
            "     auxiliary[0,8] 10519298.60     18.20 10519295.71 10519272.80 10519330.53      2.79      2.26\n",
            "     auxiliary[0,9] 10519209.18     20.95 10519205.29 10519184.10 10519250.93      2.79      2.26\n",
            "    auxiliary[0,10] 10519116.93     23.64 10519113.30 10519082.83 10519156.78      2.80      2.22\n",
            "    auxiliary[0,11] 10519026.70     26.66 10519020.85 10518989.08 10519070.43      2.80      2.21\n",
            "    auxiliary[0,12] 10518935.46     29.83 10518930.72 10518893.12 10518984.67      2.81      2.18\n",
            "    auxiliary[0,13] 10518845.59     32.86 10518840.57 10518800.13 10518899.32      2.79      2.19\n",
            "    auxiliary[0,14] 10518754.84     35.98 10518748.24 10518705.85 10518815.13      2.77      2.21\n",
            "    auxiliary[0,15] 10518665.06     39.16 10518658.43 10518611.13 10518731.55      2.77      2.21\n",
            "    auxiliary[0,16] 10518574.63     41.65 10518568.34 10518517.59 10518644.77      2.75      2.22\n",
            "    auxiliary[0,17] 10518484.93     43.95 10518478.65 10518422.69 10518557.35      2.73      2.22\n",
            "    auxiliary[0,18] 10518395.11     46.15 10518389.12 10518330.76 10518470.80      2.74      2.21\n",
            "    auxiliary[0,19] 10518305.89     48.46 10518300.11 10518236.53 10518383.85      2.74      2.22\n",
            "    auxiliary[0,20] 10518214.72     50.95 10518208.55 10518142.54 10518297.20      2.73      2.22\n",
            "    auxiliary[0,21] 10518123.83     53.03 10518117.16 10518047.76 10518209.20      2.72      2.24\n",
            "    auxiliary[0,22] 10518032.61     55.25 10518025.34 10517953.57 10518122.54      2.71      2.24\n",
            "    auxiliary[0,23] 10517941.04     57.57 10517933.73 10517859.33 10518036.62      2.73      2.22\n",
            "    auxiliary[0,24] 10517849.52     59.97 10517841.29 10517761.74 10517948.50      2.73      2.22\n",
            "    auxiliary[0,25] 10517756.86     62.66 10517748.92 10517666.07 10517861.26      2.71      2.24\n",
            "    auxiliary[0,26] 10517657.93     65.36 10517649.19 10517561.62 10517764.87      2.70      2.26\n",
            "    auxiliary[0,27] 10517560.98     68.09 10517551.40 10517461.63 10517672.70      2.71      2.24\n",
            "    auxiliary[0,28] 10517464.29     71.26 10517455.42 10517361.26 10517583.17      2.71      2.24\n",
            "    auxiliary[0,29] 10517365.14     74.36 10517355.89 10517253.55 10517484.84      2.71      2.25\n",
            "    auxiliary[0,30] 10517261.19     77.10 10517251.18 10517146.23 10517383.73      2.69      2.27\n",
            "     auxiliary[1,0]     71.87      2.43     71.47     68.06     75.44      2.99      2.06\n",
            "     auxiliary[1,1]     61.12     15.33     65.09     38.13     80.75      2.50      2.61\n",
            "     auxiliary[1,2]    162.12     18.28    166.66    131.36    185.17      2.60      2.45\n",
            "     auxiliary[1,3]    207.61     16.07    212.68    177.89    226.16      2.69      2.26\n",
            "     auxiliary[1,4]    275.78     18.68    281.61    242.14    299.31      2.70      2.31\n",
            "     auxiliary[1,5]    339.84     19.52    345.23    304.07    363.98      2.75      2.24\n",
            "     auxiliary[1,6]    102.97      2.84    102.45     99.14    107.63      2.66      2.53\n",
            "     auxiliary[1,7]     86.24      2.41     87.26     82.90     89.19      2.41      3.43\n",
            "     auxiliary[1,8]    104.12      2.00    104.94    100.82    106.91      3.10      1.97\n",
            "     auxiliary[1,9]     89.28      0.26     89.31     88.88     89.71      7.30      1.67\n",
            "    auxiliary[1,10]    113.65      1.65    113.43    110.62    116.75      5.59      1.04\n",
            "    auxiliary[1,11]    113.91      0.57    113.71    113.09    114.78      5.10      1.06\n",
            "    auxiliary[1,12]    122.47      0.48    122.43    121.46    123.13      5.29      1.35\n",
            "    auxiliary[1,13]    114.45      0.46    114.59    113.47    115.02      8.91      1.20\n",
            "    auxiliary[1,14]    128.80      1.90    129.34    125.73    131.11      2.65      2.40\n",
            "    auxiliary[1,15]    125.06      1.73    124.50    123.08    127.95      2.43      3.19\n",
            "    auxiliary[1,16]    127.94      1.09    128.20    126.00    129.40      3.35      1.74\n",
            "    auxiliary[1,17]    121.21      0.47    121.13    120.56    121.91      8.77      1.06\n",
            "    auxiliary[1,18]    124.32      0.56    124.45    123.44    125.06      4.88      1.04\n",
            "    auxiliary[1,19]    122.20      1.18    122.56    119.92    123.60      3.64      1.61\n",
            "    auxiliary[1,20]    136.02      3.95    135.87    129.65    142.87      3.25      1.86\n",
            "    auxiliary[1,21]    124.42      0.56    124.27    123.62    125.25      3.30      1.98\n",
            "    auxiliary[1,22]    124.26      1.03    123.99    122.89    125.93      2.60      2.45\n",
            "    auxiliary[1,23]    130.80      1.91    130.10    128.66    134.45      3.70      1.52\n",
            "    auxiliary[1,24]    115.26      0.76    115.14    114.08    116.39      3.52      1.54\n",
            "    auxiliary[1,25]    117.31      0.60    117.18    116.52    118.48      6.06      1.11\n",
            "    auxiliary[1,26]    159.89      2.04    159.67    157.12    163.58     15.68      1.11\n",
            "    auxiliary[1,27]    137.62      2.99    137.32    132.65    141.42      5.94      1.30\n",
            "    auxiliary[1,28]    114.81      6.77    115.15    102.95    122.55      2.63      2.67\n",
            "    auxiliary[1,29]    122.63      7.87    122.37    111.62    135.56      2.74      2.27\n",
            "    auxiliary[1,30]    152.79      7.00    151.01    142.64    163.22      2.71      2.78\n",
            "     auxiliary[2,0]      1.26      0.01      1.26      1.25      1.26      5.57      1.10\n",
            "     auxiliary[2,1]     81.05     10.27     77.61     67.76     97.29      2.61      2.37\n",
            "     auxiliary[2,2]      3.80      0.06      3.81      3.69      3.90      4.89      1.34\n",
            "     auxiliary[2,3]     29.90      4.19     30.03     23.06     36.11      2.62      2.60\n",
            "     auxiliary[2,4]     23.80      1.66     23.57     21.56     26.04      2.58      2.47\n",
            "     auxiliary[2,5]     27.46      2.27     28.09     24.37     30.33      2.46      3.14\n",
            "     auxiliary[2,6]    334.50     20.32    340.48    296.46    358.15      2.77      2.23\n",
            "     auxiliary[2,7]    383.18     24.29    389.38    342.72    415.92      2.79      2.33\n",
            "     auxiliary[2,8]    386.43     28.19    391.42    336.49    421.32      2.73      2.55\n",
            "     auxiliary[2,9]    416.60     33.11    422.10    358.55    463.10      2.74      2.58\n",
            "    auxiliary[2,10]    400.32     36.78    411.44    334.84    449.55      2.76      2.45\n",
            "    auxiliary[2,11]    401.49     40.68    413.78    332.55    452.13      2.72      2.44\n",
            "    auxiliary[2,12]    390.52     44.06    399.83    320.53    447.05      2.75      2.31\n",
            "    auxiliary[2,13]    393.40     44.69    394.23    323.18    453.46      2.69      2.33\n",
            "    auxiliary[2,14]    366.68     43.70    375.61    294.58    425.75      2.60      2.51\n",
            "    auxiliary[2,15]    360.52     42.82    367.72    291.66    420.98      2.62      2.51\n",
            "    auxiliary[2,16]    350.31     40.35    348.39    292.07    411.34      2.51      2.79\n",
            "    auxiliary[2,17]    351.32     33.42    352.44    305.42    402.99      2.52      2.61\n",
            "    auxiliary[2,18]    338.73     30.31    333.56    297.25    386.87      2.57      2.47\n",
            "    auxiliary[2,19]    329.68     28.09    323.72    288.42    375.42      2.67      2.33\n",
            "    auxiliary[2,20]    311.01     19.64    304.97    284.29    339.40      2.52      2.59\n",
            "    auxiliary[2,21]    332.59     21.10    329.98    301.17    363.00      2.46      3.03\n",
            "    auxiliary[2,22]    339.79     22.72    334.03    305.75    368.47      2.47      2.74\n",
            "    auxiliary[2,23]    335.44     18.75    333.45    307.13    360.36      2.64      2.36\n",
            "    auxiliary[2,24]    369.13     22.47    371.88    331.76    401.59      2.62      2.45\n",
            "    auxiliary[2,25]    385.74     25.30    386.26    349.26    423.11      2.47      2.87\n",
            "    auxiliary[2,26]    370.03     25.99    367.47    335.42    408.79      2.43      3.04\n",
            "    auxiliary[2,27]    444.59     25.02    440.98    406.66    482.60      2.54      2.67\n",
            "    auxiliary[2,28]    516.74     24.43    517.55    478.55    555.31      2.71      2.28\n",
            "    auxiliary[2,29]    558.80     23.79    556.47    526.77    602.00      2.65      2.34\n",
            "    auxiliary[2,30]    586.29     25.46    582.55    552.84    634.41      2.77      2.18\n",
            " drifting_factor[0]      0.97      0.00      0.97      0.96      0.98      3.19      2.07\n",
            " drifting_factor[1]      0.75      0.00      0.75      0.75      0.76      6.34      1.05\n",
            " drifting_factor[2]      0.77      0.01      0.77      0.76      0.78      4.20      1.39\n",
            " drifting_factor[3]      0.66      0.01      0.66      0.65      0.67      2.77      2.28\n",
            " drifting_factor[4]      0.64      0.00      0.64      0.64      0.65      3.78      1.53\n",
            " drifting_factor[5]      0.77      0.01      0.77      0.76      0.78      3.89      1.24\n",
            " drifting_factor[6]      0.78      0.01      0.78      0.77      0.78      3.42      1.99\n",
            " drifting_factor[7]      0.84      0.01      0.84      0.83      0.84      3.10      1.96\n",
            " drifting_factor[8]      0.72      0.00      0.72      0.72      0.73      3.73      1.85\n",
            " drifting_factor[9]      0.87      0.00      0.87      0.87      0.88      7.01      1.07\n",
            "drifting_factor[10]      0.78      0.00      0.78      0.78      0.78      5.53      1.66\n",
            "drifting_factor[11]      0.61      0.00      0.61      0.60      0.62      4.98      1.46\n",
            "drifting_factor[12]      0.81      0.00      0.81      0.81      0.81     15.23      1.14\n",
            "drifting_factor[13]      0.86      0.02      0.85      0.83      0.89      2.43      3.55\n",
            "drifting_factor[14]      0.85      0.00      0.85      0.85      0.86      3.66      1.66\n",
            "drifting_factor[15]      0.93      0.01      0.93      0.92      0.94      3.85      1.57\n",
            "drifting_factor[16]      1.05      0.00      1.05      1.05      1.06      4.40      1.39\n",
            "drifting_factor[17]      1.07      0.00      1.07      1.06      1.07      7.48      1.00\n",
            "drifting_factor[18]      1.06      0.01      1.06      1.04      1.07      3.44      1.49\n",
            "drifting_factor[19]      1.16      0.00      1.16      1.15      1.16      4.66      1.77\n",
            "drifting_factor[20]      1.22      0.01      1.22      1.21      1.23      3.52      1.69\n",
            "drifting_factor[21]      1.17      0.00      1.17      1.17      1.18      5.00      1.01\n",
            "drifting_factor[22]      1.08      0.01      1.08      1.07      1.09      7.58      1.19\n",
            "drifting_factor[23]      1.04      0.00      1.04      1.04      1.05      7.50      1.00\n",
            "drifting_factor[24]      0.87      0.01      0.87      0.87      0.88      2.42      3.36\n",
            "drifting_factor[25]      0.79      0.01      0.79      0.78      0.80      2.50      2.81\n",
            "drifting_factor[26]      0.81      0.00      0.81      0.81      0.82      3.58      1.56\n",
            "drifting_factor[27]      0.62      0.00      0.61      0.61      0.62      2.88      2.40\n",
            "drifting_factor[28]      0.59      0.00      0.59      0.58      0.59      4.65      1.31\n",
            "drifting_factor[29]      0.61      0.00      0.61      0.61      0.61      3.29      2.22\n",
            "drifting_factor[30]      0.64      0.00      0.64      0.63      0.64      6.21      1.06\n",
            "\n",
            "Number of divergences: 0\n"
          ],
          "name": "stdout"
        }
      ]
    },
    {
      "cell_type": "markdown",
      "metadata": {
        "id": "7P_46Sj5aZmT"
      },
      "source": [
        "Prediction\r\n"
      ]
    },
    {
      "cell_type": "code",
      "metadata": {
        "colab": {
          "base_uri": "https://localhost:8080/"
        },
        "id": "2VR0PFU1adGZ",
        "outputId": "b3dc4daf-7301-4767-aff3-f85519b61cf5"
      },
      "source": [
        "samples = Shijiazhuang_model.predict()\r\n",
        "for key, value in sorted(samples.items()):\r\n",
        "  print(\"{}.shape = {}\".format(key, tuple(value.shape)))\r\n"
      ],
      "execution_count": null,
      "outputs": [
        {
          "output_type": "stream",
          "text": [
            "INFO \t Predicting latent variables for 31 time steps...\n"
          ],
          "name": "stderr"
        },
        {
          "output_type": "stream",
          "text": [
            "E.shape = (200, 31)\n",
            "E2I.shape = (200, 31)\n",
            "I.shape = (200, 31)\n",
            "I2R.shape = (200, 31)\n",
            "R0.shape = (200, 1)\n",
            "Rt.shape = (200, 31, 200, 1)\n",
            "S.shape = (200, 31)\n",
            "S2E.shape = (200, 31)\n",
            "auxiliary.shape = (200, 1, 3, 31)\n",
            "drifting_factor.shape = (200, 31)\n",
            "incubation_time.shape = (200, 1)\n",
            "infectious_rate.shape = (200, 1)\n",
            "new_cases.shape = (200, 31)\n",
            "recovery_time.shape = (200, 1)\n"
          ],
          "name": "stdout"
        }
      ]
    },
    {
      "cell_type": "code",
      "metadata": {
        "colab": {
          "base_uri": "https://localhost:8080/",
          "height": 490
        },
        "id": "Y8U6m24taqNv",
        "outputId": "44b5dc12-e3cf-4f73-d3b0-7a9392efb780"
      },
      "source": [
        "names = [\"Rt\",\"R0\", \"infectious_rate\"]\r\n",
        "fig, axes = plt.subplots(3, 1, figsize=(5, 5))\r\n",
        "axes[0].set_title(\"Posterior estimates of global parameters\")\r\n",
        "for ax, name in zip(axes, names):\r\n",
        "    # truth = synth_data[name]\r\n",
        "    sns.distplot(samples[name], ax=ax, label=\"posterior\")\r\n",
        "    # ax.axvline(truth, color=\"k\", label=\"truth\")\r\n",
        "    ax.set_xlabel(name)\r\n",
        "    ax.set_yticks(())\r\n",
        "    ax.legend(loc=\"best\")\r\n",
        "plt.tight_layout()"
      ],
      "execution_count": null,
      "outputs": [
        {
          "output_type": "stream",
          "text": [
            "/usr/local/lib/python3.6/dist-packages/seaborn/distributions.py:2557: FutureWarning: `distplot` is a deprecated function and will be removed in a future version. Please adapt your code to use either `displot` (a figure-level function with similar flexibility) or `histplot` (an axes-level function for histograms).\n",
            "  warnings.warn(msg, FutureWarning)\n",
            "/usr/local/lib/python3.6/dist-packages/seaborn/distributions.py:2557: FutureWarning: `distplot` is a deprecated function and will be removed in a future version. Please adapt your code to use either `displot` (a figure-level function with similar flexibility) or `histplot` (an axes-level function for histograms).\n",
            "  warnings.warn(msg, FutureWarning)\n",
            "/usr/local/lib/python3.6/dist-packages/seaborn/distributions.py:2557: FutureWarning: `distplot` is a deprecated function and will be removed in a future version. Please adapt your code to use either `displot` (a figure-level function with similar flexibility) or `histplot` (an axes-level function for histograms).\n",
            "  warnings.warn(msg, FutureWarning)\n"
          ],
          "name": "stderr"
        },
        {
          "output_type": "display_data",
          "data": {
            "image/png": "[encoded data removed]",
            "text/plain": [
              "<Figure size 360x360 with 3 Axes>"
            ]
          },
          "metadata": {
            "tags": [],
            "needs_background": "light"
          }
        }
      ]
    },
    {
      "cell_type": "markdown",
      "metadata": {
        "id": "soGGGzmvasHJ"
      },
      "source": [
        "Forecasting\r\n"
      ]
    },
    {
      "cell_type": "code",
      "metadata": {
        "id": "0qBHNMmhRoR1"
      },
      "source": [
        "def plot_forecast(samples,duration,obs):\r\n",
        "    # duration = len(empty_data)\r\n",
        "    forecast = samples[\"S\"].size(-1) - duration\r\n",
        "    # num_samples = len(samples[\"R0\"])\r\n",
        "    num_samples = len(samples[\"Rt\"])\r\n",
        "\r\n",
        "    time = torch.arange(duration + forecast)\r\n",
        "    # S2I = samples[\"S2E\"]\r\n",
        "    S2I = samples[\"E2I\"]\r\n",
        "    median = S2I.median(dim=0).values\r\n",
        "    p05 = S2I.kthvalue(int(round(0.5 + 0.05 * num_samples)), dim=0).values\r\n",
        "    p95 = S2I.kthvalue(int(round(0.5 + 0.95 * num_samples)), dim=0).values\r\n",
        "\r\n",
        "    plt.figure(figsize=(8, 4))\r\n",
        "    plt.fill_between(time, p05, p95, color=\"red\", alpha=0.3, label=\"90% CI\")\r\n",
        "    plt.plot(time, median, \"r-\", label=\"median\")\r\n",
        "    plt.plot(time[:duration], obs, \"k.\", label=\"observed\")\r\n",
        "    # plt.plot(time[:duration], synth_data[\"S2E\"], \"k--\", label=\"truth\")\r\n",
        "\r\n",
        "    plt.axvline(duration - 0.5, color=\"gray\", lw=1)\r\n",
        "    plt.xlim(0, len(time) - 1)\r\n",
        "    plt.ylim(0, None)\r\n",
        "    plt.xlabel(\"day after first infection\")\r\n",
        "    plt.ylabel(\"new infections per day\")\r\n",
        "    plt.title(\"New infections in population of {}\".format(population))\r\n",
        "    plt.legend(loc=\"upper left\")\r\n",
        "    plt.tight_layout()\r\n"
      ],
      "execution_count": null,
      "outputs": []
    },
    {
      "cell_type": "code",
      "metadata": {
        "colab": {
          "base_uri": "https://localhost:8080/",
          "height": 330
        },
        "id": "5TfHaNvWRhBE",
        "outputId": "5a3959b6-918b-4302-c9b8-885b33c16ad6"
      },
      "source": [
        "# empty_data = [None] * 30\r\n",
        "duration = len(Shijiazhuang[\"new_cases\"])\r\n",
        "population = 10520000\r\n",
        "df = pd.read_csv(\"/Hebei.csv\")\r\n",
        "  \r\n",
        "obs = Shijiazhuang[\"new_cases\"]\r\n",
        "\r\n",
        "\r\n",
        "samples = Shijiazhuang_model.predict(forecast=7)\r\n",
        "plot_forecast(samples,duration,obs)"
      ],
      "execution_count": null,
      "outputs": [
        {
          "output_type": "stream",
          "text": [
            "INFO \t Predicting latent variables for 31 time steps...\n",
            "INFO \t Forecasting 7 steps ahead...\n"
          ],
          "name": "stderr"
        },
        {
          "output_type": "display_data",
          "data": {
            "image/png": "[encoded data removed]",
            "text/plain": [
              "<Figure size 576x288 with 1 Axes>"
            ]
          },
          "metadata": {
            "tags": [],
            "needs_background": "light"
          }
        }
      ]
    }
  ]
}